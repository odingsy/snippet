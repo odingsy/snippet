{
 "cells": [
  {
   "cell_type": "markdown",
   "id": "e5ef8583",
   "metadata": {},
   "source": [
    "#### test run of one file and registering the amount of CPU used. \n",
    "[SLURM sacct tool](https://slurm.schedmd.com/accounting.html)"
   ]
  },
  {
   "cell_type": "code",
   "execution_count": null,
   "id": "cb42355b",
   "metadata": {},
   "outputs": [],
   "source": []
  }
 ],
 "metadata": {
  "kernelspec": {
   "display_name": "Bash",
   "language": "bash",
   "name": "bash"
  },
  "language_info": {
   "codemirror_mode": "shell",
   "file_extension": ".sh",
   "mimetype": "text/x-sh",
   "name": "bash"
  }
 },
 "nbformat": 4,
 "nbformat_minor": 5
}
