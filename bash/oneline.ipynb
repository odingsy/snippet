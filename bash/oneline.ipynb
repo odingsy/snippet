{
 "cells": [
  {
   "cell_type": "markdown",
   "id": "e3fd0fcd",
   "metadata": {},
   "source": [
    "#### Souces \n",
    "- [awk manual](https://www.gnu.org/software/gawk/manual/html_node/Changing-Fields.html#Changing-Fields)"
   ]
  },
  {
   "cell_type": "markdown",
   "id": "b03ef1c0",
   "metadata": {},
   "source": [
    "#### output field separator (OFS) using comma\n",
    "|  |   |\n",
    "---|---|\n",
    "| **FS** | field separator (default: white space) |\n",
    "| **OFS** |  output field separator, i.e. what character separates fields when printing|\n",
    "| **RS** | record separator, i.e. what character records are split on (default: new line) |\n",
    "| **ORS** | output record separator |\n",
    "| **NR** | number of records in input (# lines by default) |"
   ]
  },
  {
   "cell_type": "code",
   "execution_count": 31,
   "id": "84eaef9e",
   "metadata": {},
   "outputs": [
    {
     "name": "stdout",
     "output_type": "stream",
     "text": [
      "2 ##gff-version\n",
      "rtracklayer ##source-version\n",
      "2022-04-07 ##date\n",
      "ensembl_havana 17\n",
      "ensembl_havana 17\n",
      "ensembl_havana 17\n",
      "ensembl_havana 17\n",
      "ensembl_havana 17\n",
      "ensembl_havana 17\n",
      "ensembl_havana 17\n"
     ]
    }
   ],
   "source": [
    "cat data/anno.gtf | head | awk '{print $2,$1}' - "
   ]
  },
  {
   "cell_type": "code",
   "execution_count": 28,
   "id": "7f368f0a",
   "metadata": {},
   "outputs": [
    {
     "name": "stdout",
     "output_type": "stream",
     "text": [
      "2##gff-version\n",
      "rtracklayer##source-version\n",
      "2022-04-07##date\n",
      "ensembl_havana17\n",
      "ensembl_havana17\n",
      "ensembl_havana17\n",
      "ensembl_havana17\n",
      "ensembl_havana17\n",
      "ensembl_havana17\n",
      "ensembl_havana17\n"
     ]
    }
   ],
   "source": [
    "# record: row\n",
    "# field: column\n",
    "cat data/anno.gtf | head | awk '{print $2 $1}' - # even there is a literal space, NO OFS is returned. "
   ]
  },
  {
   "cell_type": "code",
   "execution_count": 32,
   "id": "1ab9628d",
   "metadata": {},
   "outputs": [
    {
     "name": "stdout",
     "output_type": "stream",
     "text": [
      "2_____##gff-version\n",
      "rtracklayer_____##source-version\n",
      "2022-04-07_____##date\n",
      "ensembl_havana_____17\n",
      "ensembl_havana_____17\n",
      "ensembl_havana_____17\n",
      "ensembl_havana_____17\n",
      "ensembl_havana_____17\n",
      "ensembl_havana_____17\n",
      "ensembl_havana_____17\n"
     ]
    }
   ],
   "source": [
    "cat data/anno.gtf | head | awk '{OFS=\"_____\"; print $2,$1}' - "
   ]
  },
  {
   "cell_type": "markdown",
   "id": "5379fb0d",
   "metadata": {},
   "source": [
    "#### Change csv to tsv"
   ]
  },
  {
   "cell_type": "code",
   "execution_count": 40,
   "id": "7399665f",
   "metadata": {},
   "outputs": [
    {
     "name": "stdout",
     "output_type": "stream",
     "text": [
      "chr1\t1015066\t1015266\tHSE897\t9.5706324138\n",
      "chr1\t1590473\t1590673\tHSE853\t17.3206898329\n",
      "chr1\t2120861\t2121064\tHSE86\t66.0424471614\n",
      "chr1\t6336418\t6336624\tHSE394\t14.8892086906\n",
      "chr1\t7404594\t7404794\tHSE315\t24.228051023\n",
      "chr1\t11941325\t11941525\tHSE322\t17.5192630328\n",
      "chr1\t15055555\t15055755\tHSE962\t11.7065788965\n",
      "chr1\t15478024\t15478224\tHSE354\t17.5771586196\n",
      "chr1\t16065307\t16065508\tHSE264\t23.9092446094\n",
      "chr1\t23244249\t23244449\tHSE434\t17.1331422162\n"
     ]
    }
   ],
   "source": [
    "cat data/enhancers.csv | head | awk 'BEGIN{FS=\",\"; OFS=\"\\t\"}{$1=$1;print $0}' - "
   ]
  },
  {
   "cell_type": "markdown",
   "id": "0efa33a3",
   "metadata": {},
   "source": [
    "##### [about `$1 = $1`](https://unix.stackexchange.com/questions/568666/how-does-awk-1-1-remove-extra-spaces)\n",
    "> It is a common error to try to change the field separators in a record simply by setting FS and OFS, and then expecting a plain ‘print’ or ‘print $0’ to print the modified record."
   ]
  },
  {
   "cell_type": "code",
   "execution_count": 42,
   "id": "dd89427f",
   "metadata": {},
   "outputs": [
    {
     "name": "stdout",
     "output_type": "stream",
     "text": [
      "0 0\n"
     ]
    }
   ],
   "source": [
    "echo \"0    0\" | awk '{$1 = $1}'1"
   ]
  },
  {
   "cell_type": "code",
   "execution_count": 43,
   "id": "5f55262b",
   "metadata": {},
   "outputs": [],
   "source": [
    "echo \"0    0\" | awk '{$1 = $1}' # no input "
   ]
  },
  {
   "cell_type": "markdown",
   "id": "feb95f2b",
   "metadata": {},
   "source": [
    "#### Arrange the column"
   ]
  },
  {
   "cell_type": "code",
   "execution_count": 23,
   "id": "a68da4eb",
   "metadata": {},
   "outputs": [
    {
     "name": "stdout",
     "output_type": "stream",
     "text": [
      "##gff-version 2\n",
      "##source-version rtracklayer 1.54.0\n",
      "##date 2022-04-07\n",
      "17\tensembl_havana\tgene\t1\t3410\t.\t-\t.\tgene_id \"ENSG00000108518\"; gene_version \"8\"; gene_name \"PFN1\"; gene_source \"ensembl_havana\"; gene_biotype \"protein_coding\";\n"
     ]
    }
   ],
   "source": [
    "# Print everything except 1st column  \n",
    "cat data/anno.gtf | head -4 | awk '{print $0}' -"
   ]
  },
  {
   "cell_type": "code",
   "execution_count": 25,
   "id": "ffbd42f0",
   "metadata": {},
   "outputs": [
    {
     "name": "stdout",
     "output_type": "stream",
     "text": [
      " 2\n",
      " rtracklayer 1.54.0\n",
      " 2022-04-07\n",
      " ensembl_havana gene 1 3410 . - . gene_id \"ENSG00000108518\"; gene_version \"8\"; gene_name \"PFN1\"; gene_source \"ensembl_havana\"; gene_biotype \"protein_coding\";\n"
     ]
    }
   ],
   "source": [
    "cat data/anno.gtf | head -4 | awk '{$1=\"\"; print $0}' -  # print everything except 1st column. "
   ]
  },
  {
   "cell_type": "markdown",
   "id": "b24e2b1b",
   "metadata": {},
   "source": [
    "#### Mutate and transmutate"
   ]
  },
  {
   "cell_type": "code",
   "execution_count": 56,
   "id": "f2029655",
   "metadata": {},
   "outputs": [
    {
     "name": "stdout",
     "output_type": "stream",
     "text": [
      "25 15\n",
      "32 22\n",
      "24 14\n",
      "52 42\n",
      "34 24\n",
      "42 32\n",
      "34 24\n",
      "34 24\n",
      "55 45\n",
      "54 44\n"
     ]
    }
   ],
   "source": [
    "cat data/inventory-shipped | head | awk '{nboxes = $3; $3 = $3 - 10; print nboxes, $3}' "
   ]
  },
  {
   "cell_type": "code",
   "execution_count": 61,
   "id": "c947c468",
   "metadata": {},
   "outputs": [
    {
     "name": "stdout",
     "output_type": "stream",
     "text": [
      "168\n",
      "297\n",
      "301\n",
      "566\n",
      "287\n",
      "640\n",
      "561\n",
      "412\n",
      "382\n",
      "676\n"
     ]
    }
   ],
   "source": [
    "cat data/inventory-shipped | head | awk '{$6 = ($2 + $3 + $4 + $5); print $6}' - "
   ]
  },
  {
   "cell_type": "markdown",
   "id": "9974b1bf",
   "metadata": {},
   "source": [
    "#### Filter"
   ]
  },
  {
   "cell_type": "code",
   "execution_count": 90,
   "id": "a9e62945",
   "metadata": {},
   "outputs": [
    {
     "name": "stdout",
     "output_type": "stream",
     "text": [
      "17\tensembl_havana\texon\t977\t1169\t.\t-\t.\tgene_id \"ENSG00000108518\"; gene_version \"8\"; gene_name \"PFN1\"; gene_source \"ensembl_havana\"; gene_biotype \"protein_coding\"; transcript_id \"ENST00000225655\"; transcript_version \"6\"; transcript_name \"PFN1-201\"; transcript_source \"ensembl_havana\"; transcript_biotype \"protein_coding\"; tag \"basic\"; transcript_support_level \"1 (assigned to previous version 5)\"; exon_number \"2\"; exon_id \"ENSE00000676461\"; exon_version \"1\"; ccds_id \"CCDS11061\"\n",
      "17\tensembl_havana\tCDS\t977\t1169\t.\t-\t0\tgene_id \"ENSG00000108518\"; gene_version \"8\"; gene_name \"PFN1\"; gene_source \"ensembl_havana\"; gene_biotype \"protein_coding\"; transcript_id \"ENST00000225655\"; transcript_version \"6\"; transcript_name \"PFN1-201\"; transcript_source \"ensembl_havana\"; transcript_biotype \"protein_coding\"; tag \"basic\"; transcript_support_level \"1 (assigned to previous version 5)\"; exon_number \"2\"; protein_id \"ENSP00000225655\"; protein_version \"5\"; ccds_id \"CCDS11061\"\n",
      "17\thavana\texon\t1042\t1169\t.\t-\t.\tgene_id \"ENSG00000108518\"; gene_version \"8\"; gene_name \"PFN1\"; gene_source \"ensembl_havana\"; gene_biotype \"protein_coding\"; transcript_id \"ENST00000572383\"; transcript_version \"1\"; transcript_name \"PFN1-202\"; transcript_source \"havana\"; transcript_biotype \"protein_coding\"; tag \"mRNA_end_NF\"; transcript_support_level \"3\"; exon_number \"3\"; exon_id \"ENSE00002678014\"; exon_version \"1\";\n",
      "17\thavana\tCDS\t1042\t1169\t.\t-\t0\tgene_id \"ENSG00000108518\"; gene_version \"8\"; gene_name \"PFN1\"; gene_source \"ensembl_havana\"; gene_biotype \"protein_coding\"; transcript_id \"ENST00000572383\"; transcript_version \"1\"; transcript_name \"PFN1-202\"; transcript_source \"havana\"; transcript_biotype \"protein_coding\"; tag \"mRNA_end_NF\"; transcript_support_level \"3\"; exon_number \"3\"; protein_id \"ENSP00000460363\"; protein_version \"1\";\n"
     ]
    }
   ],
   "source": [
    "cat data/anno.gtf | awk 'BEGIN {FS = \"\\t\"; OFS = \"\\t\"} {if($1 == \"17\" && $4 > 300 && $5 < 1190) print $0}' - "
   ]
  },
  {
   "cell_type": "code",
   "execution_count": 89,
   "id": "3487e3f0",
   "metadata": {},
   "outputs": [
    {
     "name": "stdout",
     "output_type": "stream",
     "text": [
      "17\tensembl_havana\tCDS\t2612\t2743\t.\t-\t0\tgene_id \"ENSG00000108518\"; gene_version \"8\"; gene_name \"PFN1\"; gene_source \"ensembl_havana\"; gene_biotype \"protein_coding\"; transcript_id \"ENST00000225655\"; transcript_version \"6\"; transcript_name \"PFN1-201\"; transcript_source \"ensembl_havana\"; transcript_biotype \"protein_coding\"; tag \"basic\"; transcript_support_level \"1 (assigned to previous version 5)\"; exon_number \"1\"; protein_id \"ENSP00000225655\"; protein_version \"5\"; ccds_id \"CCDS11061\"\n",
      "17\tensembl_havana\tCDS\t977\t1169\t.\t-\t0\tgene_id \"ENSG00000108518\"; gene_version \"8\"; gene_name \"PFN1\"; gene_source \"ensembl_havana\"; gene_biotype \"protein_coding\"; transcript_id \"ENST00000225655\"; transcript_version \"6\"; transcript_name \"PFN1-201\"; transcript_source \"ensembl_havana\"; transcript_biotype \"protein_coding\"; tag \"basic\"; transcript_support_level \"1 (assigned to previous version 5)\"; exon_number \"2\"; protein_id \"ENSP00000225655\"; protein_version \"5\"; ccds_id \"CCDS11061\"\n",
      "17\tensembl_havana\tCDS\t252\t346\t.\t-\t2\tgene_id \"ENSG00000108518\"; gene_version \"8\"; gene_name \"PFN1\"; gene_source \"ensembl_havana\"; gene_biotype \"protein_coding\"; transcript_id \"ENST00000225655\"; transcript_version \"6\"; transcript_name \"PFN1-201\"; transcript_source \"ensembl_havana\"; transcript_biotype \"protein_coding\"; tag \"basic\"; transcript_support_level \"1 (assigned to previous version 5)\"; exon_number \"3\"; protein_id \"ENSP00000225655\"; protein_version \"5\"; ccds_id \"CCDS11061\"\n",
      "17\thavana\tCDS\t977\t1193\t.\t-\t0\tgene_id \"ENSG00000108518\"; gene_version \"8\"; gene_name \"PFN1\"; gene_source \"ensembl_havana\"; gene_biotype \"protein_coding\"; transcript_id \"ENST00000574872\"; transcript_version \"1\"; transcript_name \"PFN1-203\"; transcript_source \"havana\"; transcript_biotype \"protein_coding\"; tag \"basic\"; transcript_support_level \"2\"; exon_number \"1\"; protein_id \"ENSP00000465019\"; protein_version \"1\";\n"
     ]
    }
   ],
   "source": [
    "cat data/anno.gtf |head -20 | awk 'BEGIN {FS = \"\\t\"; OFS = \"\\t\"} {if($3 ~ /CDS/) print $0}' - "
   ]
  },
  {
   "cell_type": "code",
   "execution_count": 99,
   "id": "29695c63",
   "metadata": {},
   "outputs": [
    {
     "name": "stdout",
     "output_type": "stream",
     "text": [
      "17\t0\t3410\n",
      "17\t0\t2879\n",
      "17\t2611\t2879\n",
      "17\t2611\t2743\n",
      "17\t2740\t2743\n",
      "17\t976\t1169\n",
      "17\t976\t1169\n",
      "17\t0\t346\n",
      "17\t251\t346\n",
      "17\t248\t251\n",
      "17\t2743\t2879\n",
      "17\t0\t248\n",
      "17\t15\t1818\n",
      "17\t976\t1818\n",
      "17\t976\t1193\n",
      "17\t1190\t1193\n",
      "17\t15\t346\n",
      "17\t251\t346\n",
      "17\t248\t251\n",
      "17\t1193\t1818\n",
      "17\t15\t248\n",
      "17\t1041\t3410\n",
      "17\t3292\t3410\n",
      "17\t3292\t3368\n",
      "17\t3365\t3368\n",
      "17\t2611\t2904\n",
      "17\t2611\t2904\n",
      "17\t1041\t1169\n",
      "17\t1041\t1169\n",
      "17\t3368\t3410\n"
     ]
    }
   ],
   "source": [
    "# grep -v '^#' data/anno.gtf | awk 'BEGIN {FS = \"\\t\"; OFS = \"\\t\"} {print $1, $4-1, $5}' - \n",
    "cat data/anno.gtf | awk 'BEGIN {FS = \"\\t\"; OFS = \"\\t\"} !/^#/{print $1, $4-1, $5}' - "
   ]
  },
  {
   "cell_type": "code",
   "execution_count": 109,
   "id": "7b3427cc",
   "metadata": {},
   "outputs": [],
   "source": [
    "cat data/anno.gtf | awk 'BEGIN {FS = \"\\t\"; OFS = \"\\t\"} {if($3 ~ /CDS/) print $1, $4-1, $5}' > data/CDS.bed - # GTF to bed for CDS only"
   ]
  },
  {
   "cell_type": "code",
   "execution_count": 112,
   "id": "c0c064cb",
   "metadata": {},
   "outputs": [
    {
     "name": "stdout",
     "output_type": "stream",
     "text": [
      "153.625\n"
     ]
    }
   ],
   "source": [
    "cat data/anno.gtf | awk 'BEGIN {FS = \"\\t\"; OFS = \"\\t\"} {if($3 ~ /CDS/) print $1, $4-1, $5}' > data/CDS.bed - \n",
    "cat data/CDS.bed | awk 'BEGIN {FS = \"\\t\"; sum = 0} {len = $3-$2; sum = sum + len} END{print sum/NR}' - "
   ]
  },
  {
   "cell_type": "code",
   "execution_count": 86,
   "id": "3e97b321",
   "metadata": {},
   "outputs": [
    {
     "name": "stdout",
     "output_type": "stream",
     "text": [
      "2.5\n"
     ]
    }
   ],
   "source": [
    "cat data/SRR13345674.fastq | head | awk 'END{print NR/4}' -"
   ]
  },
  {
   "cell_type": "code",
   "execution_count": null,
   "id": "9451ff1e",
   "metadata": {},
   "outputs": [],
   "source": [
    "# gft2 to bed using bed2op walkaround https://www.biostars.org/p/206342/ \n",
    "awk '{ if ($0 ~ \"transcript_id\") print $0; else print $0\" transcript_id \\\"\\\";\"; }' input.gtf | gtf2bed - > output.bed"
   ]
  }
 ],
 "metadata": {
  "kernelspec": {
   "display_name": "Bash",
   "language": "bash",
   "name": "bash"
  },
  "language_info": {
   "codemirror_mode": "shell",
   "file_extension": ".sh",
   "mimetype": "text/x-sh",
   "name": "bash"
  }
 },
 "nbformat": 4,
 "nbformat_minor": 5
}
