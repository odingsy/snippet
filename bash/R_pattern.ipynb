{
 "cells": [
  {
   "cell_type": "code",
   "execution_count": 2,
   "id": "10e91250",
   "metadata": {},
   "outputs": [
    {
     "data": {
      "text/html": [
       "<style>\n",
       ".list-inline {list-style: none; margin:0; padding: 0}\n",
       ".list-inline>li {display: inline-block}\n",
       ".list-inline>li:not(:last-child)::after {content: \"\\00b7\"; padding: 0 .5ex}\n",
       "</style>\n",
       "<ol class=list-inline><li>'/Users/shiyuanguo/Library/R/4.1/library'</li><li>'/Users/shiyuanguo/opt/anaconda3/envs/r4/lib/R/library'</li></ol>\n"
      ],
      "text/latex": [
       "\\begin{enumerate*}\n",
       "\\item '/Users/shiyuanguo/Library/R/4.1/library'\n",
       "\\item '/Users/shiyuanguo/opt/anaconda3/envs/r4/lib/R/library'\n",
       "\\end{enumerate*}\n"
      ],
      "text/markdown": [
       "1. '/Users/shiyuanguo/Library/R/4.1/library'\n",
       "2. '/Users/shiyuanguo/opt/anaconda3/envs/r4/lib/R/library'\n",
       "\n",
       "\n"
      ],
      "text/plain": [
       "[1] \"/Users/shiyuanguo/Library/R/4.1/library\"              \n",
       "[2] \"/Users/shiyuanguo/opt/anaconda3/envs/r4/lib/R/library\""
      ]
     },
     "metadata": {},
     "output_type": "display_data"
    }
   ],
   "source": []
  },
  {
   "cell_type": "markdown",
   "id": "6b8f90c0",
   "metadata": {},
   "source": [
    "#### R regex\n",
    "- [POSIX Basic regular expression(BRE)](https://en.wikibooks.org/wiki/Regular_Expressions/POSIX_Basic_Regular_Expressions)\n",
    "- [POSIX Extended regular expression(ERE)](https://en.wikibooks.org/wiki/Regular_Expressions/POSIX-Extended_Regular_Expressions): some bachslashes (escape) are removed.  \n",
    "- [R is using TRE, a POSIX like engine](https://www.regular-expressions.info/posix.html)  \n",
    "> The best way to use regular expressions with R is to pass the perl=TRUE parameter. This tells R to use the PCRE regular expressions library. When this website talks about R, it assumes you’re using the perl=TRUE parameter. Starting with R 4.0.0, passing perl=TRUE makes R use the PCRE2 library.\n",
    "\n",
    "\n",
    "##### [R base regex page](https://stat.ethz.ch/R-manual/R-devel/library/base/html/regex.html)\n",
    "> Two types of regular expressions are used in R, extended regular expressions (the default) and Perl-like regular expressions used by `perl = TRUE`. There is also `fixed = TRUE` which can be considered to use a literal regular expression.\n",
    "\n",
    "R default Extended Regular Expressions are \n",
    "> POSIX 1003.2 standard  \n",
    "- [ACSII character set](https://www.ibm.com/docs/en/xl-fortran-linux/15.1.0?topic=appendix-ascii-ebcdic-character-sets) and [wiki control characters](https://en.wikipedia.org/wiki/Control_character) \n",
    "> Escaping non-metacharacters with a backslash is implementation-dependent. (about control character) "
   ]
  },
  {
   "cell_type": "code",
   "execution_count": 31,
   "id": "9ec539d3",
   "metadata": {},
   "outputs": [
    {
     "name": "stdout",
     "output_type": "stream",
     "text": [
      "|\n",
      "\\|"
     ]
    }
   ],
   "source": [
    "# testing of metacharacters using `cat()` \n",
    "m1 <- '|'\n",
    "# m2 <- '\\|' error\n",
    "m3 <- '\\\\|'\n",
    "cat(m1)\n",
    "cat('\\n')\n",
    "cat(m3)"
   ]
  },
  {
   "cell_type": "code",
   "execution_count": 42,
   "id": "90ff7ef2",
   "metadata": {},
   "outputs": [
    {
     "name": "stdout",
     "output_type": "stream",
     "text": [
      "<U+2060>\\.\n",
      " \\\\\n",
      "\\|\n",
      "\\(\n",
      "\\)\n",
      "\\[\n",
      "\\{\n",
      "\\^\n",
      "\\$\n",
      "\\*\n",
      "\\+\n",
      "\\?\n"
     ]
    }
   ],
   "source": [
    "metachar <- c('⁠\\\\.', ' \\\\\\\\', '\\\\|', '\\\\(', '\\\\)', '\\\\[', '\\\\{', '\\\\^', '\\\\$', '\\\\*', '\\\\+', '\\\\?')\n",
    "for (i in metachar) {cat(i); cat('\\n')}"
   ]
  },
  {
   "cell_type": "markdown",
   "id": "13a59eca",
   "metadata": {},
   "source": [
    "- named classes of characters, i.e. character classes  \n",
    "    - [:alnum:]⁠\n",
    "        - [:alpha:]⁠ + [:digit:]⁠ = [:lower:]⁠ + [:upper:]⁠ + [:digit:]⁠\n",
    "    - [:graph:]⁠ = [:alnum:]⁠ + [:punct:]  \n",
    "    - [:print:] = [:alnum:]⁠ + [:punct:] + space\n",
    "    - [:punct:]\n",
    "        - ‘⁠! \" # $ % & ' ( ) * + , - . / : ; < = > ? @ [ \\ ] ^ _ ` { | } ~⁠’  \n",
    "    - [:space:]⁠: tab, newline, vertical tab, form feed, carriage return, space and possibly other locale-dependent characters.\n",
    "\n",
    "\n",
    "- `[[:alnum:]_]` = `\\w`; `[^[:alnum:]_]`⁠ = `\\W`   \n",
    "> Note that the brackets in these class names are part of the symbolic names, and must be included in addition to the brackets delimiting the bracket list.\n",
    "\n",
    "- repitition\n",
    "    - `?` ≤1\n",
    "    - `*` ≥0\n",
    "    - `+` ≥1\n",
    "    - {3}, {3, 10}  \n",
    "> This can be changed to ‘minimal’ by appending ? to the quantifier. (There are further quantifiers that allow approximate matching: see the TRE documentation.)\n",
    "\n",
    "- concatenation\n",
    "\n",
    "- alternation through infix. \n",
    "\n",
    "> Repetition takes precedence over concatenation, which in turn takes precedence over alternation. A whole subexpression may be enclosed in parentheses to override these precedence rules.\n"
   ]
  },
  {
   "cell_type": "markdown",
   "id": "e5408397",
   "metadata": {},
   "source": [
    "#### PCRE\n",
    "- Perl5.x syntax and semantics enables with `perl = TRUE`  \n",
    "> For complete details please consult the man pages for PCRE, especially man pcrepattern and man pcreapi, on your system or from the sources at https://www.pcre.org. (The version in use can be found by calling extSoftVersion. It need not be the version described in the system's man page. PCRE1 (reported as version < 10.00 by extSoftVersion) has been feature-frozen for some time (essentially 2012), the man pages at https://www.pcre.org/original/doc/html/ should be a good match. PCRE2 (PCRE version >= 10.00) has man pages at https://www.pcre.org/current/doc/html/).\n",
    "\n",
    "- positive and negative lookahead: `⁠(?=...)⁠` and `(?!...)⁠`  \n",
    "- positive and negative lookbehind: `⁠(?<=...)⁠` and `(?<!...)⁠`. \n",
    "> Patterns ‘⁠(?=...)⁠’ and ‘⁠(?!...)⁠’ are zero-width positive and negative lookahead assertions: they match if an attempt to match the ... forward from the current position would succeed (or not), but use up no characters in the string being processed. Patterns ‘⁠(?<=...)⁠’ and ‘⁠(?<!...)⁠’ are the lookbehind equivalents: they do not allow repetition quantifiers nor ‘⁠\\C⁠’ in ...."
   ]
  },
  {
   "cell_type": "code",
   "execution_count": 3,
   "id": "fb424ad3",
   "metadata": {},
   "outputs": [
    {
     "name": "stderr",
     "output_type": "stream",
     "text": [
      "-- \u001b[1mAttaching packages\u001b[22m ------------------------------------------------------------------------------------------------------------------- tidyverse 1.3.1 --\n",
      "\n",
      "\u001b[32mv\u001b[39m \u001b[34mggplot2\u001b[39m 3.3.6     \u001b[32mv\u001b[39m \u001b[34mpurrr  \u001b[39m 0.3.4\n",
      "\u001b[32mv\u001b[39m \u001b[34mtibble \u001b[39m 3.1.7     \u001b[32mv\u001b[39m \u001b[34mdplyr  \u001b[39m 1.0.9\n",
      "\u001b[32mv\u001b[39m \u001b[34mtidyr  \u001b[39m 1.2.0     \u001b[32mv\u001b[39m \u001b[34mstringr\u001b[39m 1.4.0\n",
      "\u001b[32mv\u001b[39m \u001b[34mreadr  \u001b[39m 2.1.2     \u001b[32mv\u001b[39m \u001b[34mforcats\u001b[39m 0.5.1\n",
      "\n",
      "-- \u001b[1mConflicts\u001b[22m ---------------------------------------------------------------------------------------------------------------------- tidyverse_conflicts() --\n",
      "\u001b[31mx\u001b[39m \u001b[34mdplyr\u001b[39m::\u001b[32mfilter()\u001b[39m masks \u001b[34mstats\u001b[39m::filter()\n",
      "\u001b[31mx\u001b[39m \u001b[34mdplyr\u001b[39m::\u001b[32mlag()\u001b[39m    masks \u001b[34mstats\u001b[39m::lag()\n",
      "\n"
     ]
    }
   ],
   "source": [
    "library(tidyverse)"
   ]
  },
  {
   "cell_type": "code",
   "execution_count": 1,
   "id": "93006dba",
   "metadata": {},
   "outputs": [
    {
     "ename": "ERROR",
     "evalue": "Error in tibble(protid = c(\"sp|Q7KZ85|SPT6H_HUMAN\", \"sp|Q71U36|TBA1A_HUMAN;sp|P0DPH8|TBA3D_HUMAN;sp|P0DPH7|TBA3C_HUMAN;sp|Q9NY65|TBA8_HUMAN;sp|Q6PEY2|TBA3E_HUMAN\")): could not find function \"tibble\"\n",
     "output_type": "error",
     "traceback": [
      "Error in tibble(protid = c(\"sp|Q7KZ85|SPT6H_HUMAN\", \"sp|Q71U36|TBA1A_HUMAN;sp|P0DPH8|TBA3D_HUMAN;sp|P0DPH7|TBA3C_HUMAN;sp|Q9NY65|TBA8_HUMAN;sp|Q6PEY2|TBA3E_HUMAN\")): could not find function \"tibble\"\nTraceback:\n"
     ]
    }
   ],
   "source": [
    "# Maxquant output, proteinGroup.txt, `Majority protein IDs`\n",
    "\n",
    "tbl <- tibble(protid = c(\"sp|Q7KZ85|SPT6H_HUMAN\", \"sp|Q71U36|TBA1A_HUMAN;sp|P0DPH8|TBA3D_HUMAN;sp|P0DPH7|TBA3C_HUMAN;sp|Q9NY65|TBA8_HUMAN;sp|Q6PEY2|TBA3E_HUMAN\"))\n",
    "\n",
    "tidyr::extract(tbl, protid, into = c('uniprotID', 'geneName'),  regex = \"(?<=\\\\|)([^|]+)(?=\\\\|)\\\\|(?<=\\\\|)([^\\\\_]+)(?=\\\\_HUMAN)\")"
   ]
  },
  {
   "cell_type": "code",
   "execution_count": 46,
   "id": "69019867",
   "metadata": {},
   "outputs": [
    {
     "data": {
      "text/html": [
       "<table class=\"dataframe\">\n",
       "<caption>A matrix: 6 x 2 of type chr</caption>\n",
       "<tbody>\n",
       "\t<tr><td>6A</td><td>7</td></tr>\n",
       "\t<tr><td>6A</td><td>8</td></tr>\n",
       "\t<tr><td>6A</td><td>9</td></tr>\n",
       "\t<tr><td>6B</td><td>7</td></tr>\n",
       "\t<tr><td>6B</td><td>8</td></tr>\n",
       "\t<tr><td>6B</td><td>9</td></tr>\n",
       "</tbody>\n",
       "</table>\n"
      ],
      "text/latex": [
       "A matrix: 6 x 2 of type chr\n",
       "\\begin{tabular}{ll}\n",
       "\t 6A & 7\\\\\n",
       "\t 6A & 8\\\\\n",
       "\t 6A & 9\\\\\n",
       "\t 6B & 7\\\\\n",
       "\t 6B & 8\\\\\n",
       "\t 6B & 9\\\\\n",
       "\\end{tabular}\n"
      ],
      "text/markdown": [
       "\n",
       "A matrix: 6 x 2 of type chr\n",
       "\n",
       "| 6A | 7 |\n",
       "| 6A | 8 |\n",
       "| 6A | 9 |\n",
       "| 6B | 7 |\n",
       "| 6B | 8 |\n",
       "| 6B | 9 |\n",
       "\n"
      ],
      "text/plain": [
       "     [,1] [,2]\n",
       "[1,] 6A   7   \n",
       "[2,] 6A   8   \n",
       "[3,] 6A   9   \n",
       "[4,] 6B   7   \n",
       "[5,] 6B   8   \n",
       "[6,] 6B   9   "
      ]
     },
     "metadata": {},
     "output_type": "display_data"
    }
   ],
   "source": [
    "# extract group and sample/replicate info to construct experiment matrix\n",
    "cnames <- c(\"Intensity.6A_7\", \"Intensity.6A_8\", \"Intensity.6A_9\", \"Intensity.6B_7\", \"Intensity.6B_8\", \"Intensity.6B_9\")\n",
    "\n",
    "stringr::str_match(cnames, \"^Intensity\\\\.(.*)_(.*)\")[, c(2,3)]"
   ]
  },
  {
   "cell_type": "markdown",
   "id": "c024e5de",
   "metadata": {},
   "source": [
    "#### `sprintf` C-style formatting\n",
    "|||\n"
   ]
  }
 ],
 "metadata": {
  "kernelspec": {
   "display_name": "R",
   "language": "R",
   "name": "ir"
  },
  "language_info": {
   "codemirror_mode": "r",
   "file_extension": ".r",
   "mimetype": "text/x-r-source",
   "name": "R",
   "pygments_lexer": "r",
   "version": "4.1.3"
  }
 },
 "nbformat": 4,
 "nbformat_minor": 5
}
