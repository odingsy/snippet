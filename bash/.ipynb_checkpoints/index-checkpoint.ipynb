{
 "cells": [
  {
   "cell_type": "markdown",
   "id": "689cb6c7",
   "metadata": {},
   "source": [
    "#### Bash version "
   ]
  },
  {
   "cell_type": "code",
   "execution_count": 10,
   "id": "d21f254d",
   "metadata": {},
   "outputs": [
    {
     "name": "stdout",
     "output_type": "stream",
     "text": [
      "/usr/local/bin/bash\n",
      "\u001b[?2004h"
     ]
    },
    {
     "ename": "",
     "evalue": "1",
     "output_type": "error",
     "traceback": []
    }
   ],
   "source": [
    "echo $0"
   ]
  },
  {
   "cell_type": "code",
   "execution_count": 11,
   "id": "7715246e",
   "metadata": {},
   "outputs": [
    {
     "name": "stdout",
     "output_type": "stream",
     "text": [
      "GNU bash, version 5.1.16(1)-release (x86_64-apple-darwin19.6.0)\n",
      "Copyright (C) 2020 Free Software Foundation, Inc.\n",
      "License GPLv3+: GNU GPL version 3 or later <http://gnu.org/licenses/gpl.html>\n",
      "\n",
      "This is free software; you are free to change and redistribute it.\n",
      "There is NO WARRANTY, to the extent permitted by law.\n",
      "\u001b[?2004h"
     ]
    },
    {
     "ename": "",
     "evalue": "1",
     "output_type": "error",
     "traceback": []
    }
   ],
   "source": [
    "/usr/local/bin/bash --version"
   ]
  },
  {
   "cell_type": "code",
   "execution_count": 9,
   "id": "727ec5e1",
   "metadata": {},
   "outputs": [
    {
     "name": "stdout",
     "output_type": "stream",
     "text": [
      "bash is hashed (/usr/local/bin/bash)\n",
      "\u001b[?2004h"
     ]
    },
    {
     "ename": "",
     "evalue": "1",
     "output_type": "error",
     "traceback": []
    }
   ],
   "source": [
    "type bash"
   ]
  },
  {
   "cell_type": "code",
   "execution_count": 2,
   "id": "17cce1d4",
   "metadata": {},
   "outputs": [
    {
     "name": "stdout",
     "output_type": "stream",
     "text": [
      "5.1.16(1)-release\n",
      "\u001b[?2004h"
     ]
    },
    {
     "ename": "",
     "evalue": "1",
     "output_type": "error",
     "traceback": []
    }
   ],
   "source": [
    "echo \"$BASH_VERSION\""
   ]
  },
  {
   "cell_type": "code",
   "execution_count": 3,
   "id": "ce3a3a53",
   "metadata": {},
   "outputs": [
    {
     "name": "stdout",
     "output_type": "stream",
     "text": [
      "/bin/zsh\n",
      "\u001b[?2004h"
     ]
    },
    {
     "ename": "",
     "evalue": "1",
     "output_type": "error",
     "traceback": []
    }
   ],
   "source": [
    "echo \"$SHELL\""
   ]
  },
  {
   "cell_type": "markdown",
   "id": "c07dea2d",
   "metadata": {},
   "source": [
    "#### Bash Exit code"
   ]
  },
  {
   "cell_type": "code",
   "execution_count": 1,
   "id": "a6f1a73d",
   "metadata": {},
   "outputs": [
    {
     "name": "stdout",
     "output_type": "stream",
     "text": [
      "Sat May 28 12:14:19 PDT 2022\n",
      "220528\n",
      "0\n"
     ]
    }
   ],
   "source": [
    "# success: 0 \n",
    "date\n",
    "date '+%y%m%d'\n",
    "echo $?"
   ]
  },
  {
   "cell_type": "code",
   "execution_count": 2,
   "id": "be2d6624",
   "metadata": {},
   "outputs": [
    {
     "name": "stdout",
     "output_type": "stream",
     "text": [
      "bash: odingsy: command not found\n",
      "1272004h\u001b[?2004l\n",
      "\u001b[?2004h"
     ]
    },
    {
     "ename": "",
     "evalue": "1",
     "output_type": "error",
     "traceback": []
    }
   ],
   "source": [
    "# fail: non-zero status\n",
    "odingsy\n",
    "echo $? # 127: Key has expired"
   ]
  },
  {
   "cell_type": "code",
   "execution_count": 14,
   "id": "0fbc2202",
   "metadata": {},
   "outputs": [
    {
     "name": "stdout",
     "output_type": "stream",
     "text": [
      "Host '111' not found in /etc/hosts file.\u001b[?2004l\u001b[?2004l\u001b[?2004l\u001b[?2004l\u001b[?2004l\u001b[?2004l\u001b[?2004l\u001b[?2004l\u001b[?2004l\u001b[?2004l\u001b[?2004l\u001b[?2004l\u001b[?2004l\u001b[?2004l\u001b[?2004l\u001b[?2004l\u001b[?2004l\u001b[?2004l\n",
      "\u001b[?2004h"
     ]
    },
    {
     "ename": "",
     "evalue": "1",
     "output_type": "error",
     "traceback": []
    }
   ],
   "source": [
    "# https://www.cyberciti.biz/faq/linux-bash-exit-status-set-exit-statusin-bash/\n",
    "#!/bin/bash\n",
    "# set var \n",
    "FILE=\"/etc/hosts\"\n",
    " \n",
    "# get host name \n",
    "# read -p \"Enter a hostname : \" hostname\n",
    "hostname=111\n",
    " \n",
    "# try to locate hostname/computer name in $FILE\n",
    "grep -q -w \"${hostname}\" \"${FILE}\"\n",
    " \n",
    "# store exit status of grep\n",
    "# if found grep will return 0 exit status\n",
    "# if not found, grep will return a nonzero exit status\n",
    "status=$?\n",
    " \n",
    "if test $status -eq 0\n",
    "then\n",
    "\techo \"Host '$hostname' found in $FILE file.\"\n",
    "else\n",
    "\techo \"Host '$hostname' not found in $FILE file.\"\n",
    "fi"
   ]
  },
  {
   "cell_type": "markdown",
   "id": "92221290",
   "metadata": {},
   "source": [
    "#### Regex \n",
    "\n",
    "| Regex type |               |       |\n",
    "|------------|:-------------:|------:|\n",
    "| Unix-like  |               |       |\n",
    "| PCRE2      |               |       |\n",
    "| POSIX      |               |       | "
   ]
  },
  {
   "cell_type": "code",
   "execution_count": 13,
   "id": "65fba115",
   "metadata": {
    "scrolled": true
   },
   "outputs": [
    {
     "name": "stdout",
     "output_type": "stream",
     "text": [
      "Jan 17 03:13:00 thesquareplanet.com sshd[2631]: Disconnected from invalid user mark 46.97.239.16 port 55920 [preauth]\n",
      "Jan 17 03:13:00 thesquareplanet.com sshd[2631]: Disconnected from invalid user Disconnected from 46.97.239.16 port 55920 [preauth]\n",
      "Jan 17 08:49:00 thesquareplanet.com sshd[2744]: Disconnected from invalid user wp-user 89.134.42.194 port 38866 [preauth]\n",
      "Jan 17 08:49:00 thesquareplanet.com sshd[2744]: Disconnected from invalid user Disconnected from invalid user wp-user 89.134.42.194 port 38866 [preauth] 89.134.42.194 port 38866 [preauth]\n",
      "Jan 17 10:00:29 thesquareplant.com sshd[2775]: Disconnected from user jon 18.26.4.53 port 39872\n",
      "\u001b[?2004h"
     ]
    },
    {
     "ename": "",
     "evalue": "1",
     "output_type": "error",
     "traceback": []
    }
   ],
   "source": [
    "# capture the user name \n",
    "cat data/missing_sem_l4"
   ]
  },
  {
   "cell_type": "code",
   "execution_count": 11,
   "id": "30e06a4d",
   "metadata": {},
   "outputs": [
    {
     "name": "stdout",
     "output_type": "stream",
     "text": [
      "mark004l\n",
      "Disconnected from\n",
      "wp-user\n",
      "wp-user 89.134.42.194 port 38866 [preauth]\n",
      "jon\n",
      "\u001b[?2004h"
     ]
    },
    {
     "ename": "",
     "evalue": "1",
     "output_type": "error",
     "traceback": []
    }
   ],
   "source": [
    "cat data/missing_sem_l4 | sed -E 's/^.*Disconnected from (invalid |authenticating )?user (.*) [^ ]+ port [0-9]+( \\[preauth\\])?$/\\2/g'"
   ]
  },
  {
   "cell_type": "code",
   "execution_count": 9,
   "id": "fa9c107b",
   "metadata": {},
   "outputs": [
    {
     "name": "stdout",
     "output_type": "stream",
     "text": [
      "415-555-1234004l\n",
      "650-555-2345\n",
      "(416)555-3456\n",
      "202 555 4567\n",
      "4035555678\n",
      "1 416 555 9292\n",
      "\u001b[?2004h"
     ]
    },
    {
     "ename": "",
     "evalue": "1",
     "output_type": "error",
     "traceback": []
    }
   ],
   "source": [
    "# capture the country code \n",
    "cat data/regex_phoneNo | sed -E 's/^1?[\\s-]?\\(?(\\d{3})\\)?[\\s-]?\\d{3}[\\s-]?\\d{4}$/\\1/g'"
   ]
  },
  {
   "cell_type": "code",
   "execution_count": 8,
   "id": "9d915f59",
   "metadata": {},
   "outputs": [
    {
     "name": "stdout",
     "output_type": "stream",
     "text": [
      "4152004l\n",
      "650\n",
      "416\n",
      "202\n",
      "403\n",
      "416\n",
      "\u001b[?2004h"
     ]
    },
    {
     "ename": "",
     "evalue": "1",
     "output_type": "error",
     "traceback": []
    }
   ],
   "source": [
    "cat data/regex_phoneNo | perl -pe 's/^1?[\\s-]?\\(?(\\d{3})\\)?[\\s-]?\\d{3}[\\s-]?\\d{4}$/\\1/g'"
   ]
  },
  {
   "cell_type": "markdown",
   "id": "ab30fefd",
   "metadata": {},
   "source": [
    "#### Array"
   ]
  },
  {
   "cell_type": "code",
   "execution_count": 27,
   "id": "0e8eff06",
   "metadata": {},
   "outputs": [
    {
     "name": "stdout",
     "output_type": "stream",
     "text": [
      "one two three04l\u001b[?2004l\u001b[?2004l\n",
      "one two three04l\u001b[?2004l\u001b[?2004l\u001b[?2004l\u001b[?2004l\u001b[?2004l\n",
      "eq?2004h\u001b[?2004l\u001b[?2004l\n",
      "\u001b[?2004h"
     ]
    },
    {
     "ename": "",
     "evalue": "1",
     "output_type": "error",
     "traceback": []
    }
   ],
   "source": [
    "# index array: an ordered list\n",
    "v1=(one two)\n",
    "v1[3]+='three'\n",
    "echo ${v1[*]}\n",
    "\n",
    "declare -a v2\n",
    "v2[1]=one\n",
    "v2[2]=two\n",
    "v2[3]=three\n",
    "echo ${v2[*]}\n",
    "\n",
    "[ \"${v1[*]}\"==\"${v2[*]}\" ] && echo 'eq' || echo 'distinct'"
   ]
  },
  {
   "cell_type": "code",
   "execution_count": 30,
   "id": "313af7f7",
   "metadata": {},
   "outputs": [
    {
     "name": "stdout",
     "output_type": "stream",
     "text": [
      "abc 456 xxx abc 1232004l\u001b[?2004l\u001b[?2004l\u001b[?2004l\u001b[?2004l\n",
      "Word -> abc2004l\u001b[?2004l\n",
      "Word -> 456\n",
      "Word -> xxx\n",
      "Word -> abc\n",
      "Word -> 123\n",
      "\u001b[?2004h"
     ]
    },
    {
     "ename": "",
     "evalue": "1",
     "output_type": "error",
     "traceback": []
    }
   ],
   "source": [
    "# associated array: dictionaries\n",
    "declare -A aa\n",
    "aa[1]=123\n",
    "aa[2]='abc'\n",
    "aa+=([3]='456 xxx' [4]=abc)\n",
    "\n",
    "echo ${aa[*]}"
   ]
  },
  {
   "cell_type": "markdown",
   "id": "f97c9243",
   "metadata": {},
   "source": [
    "##### using double quote and @ "
   ]
  },
  {
   "cell_type": "code",
   "execution_count": 31,
   "id": "8bc67b85",
   "metadata": {},
   "outputs": [
    {
     "name": "stdout",
     "output_type": "stream",
     "text": [
      "Word -> abc\n",
      "Word -> 456\n",
      "Word -> xxx\n",
      "Word -> abc\n",
      "Word -> 123\n",
      "\u001b[?2004h"
     ]
    },
    {
     "ename": "",
     "evalue": "1",
     "output_type": "error",
     "traceback": []
    }
   ],
   "source": [
    "printf 'Word -> %s\\n' ${aa[@]}"
   ]
  },
  {
   "cell_type": "code",
   "execution_count": 32,
   "id": "8c4a6caa",
   "metadata": {},
   "outputs": [
    {
     "name": "stdout",
     "output_type": "stream",
     "text": [
      "Word -> abc\n",
      "Word -> 456 xxx\n",
      "Word -> abc\n",
      "Word -> 123\n",
      "\u001b[?2004h"
     ]
    },
    {
     "ename": "",
     "evalue": "1",
     "output_type": "error",
     "traceback": []
    }
   ],
   "source": [
    "printf 'Word -> %s\\n' \"${aa[@]}\" "
   ]
  },
  {
   "cell_type": "code",
   "execution_count": 33,
   "id": "d357f0ee",
   "metadata": {},
   "outputs": [
    {
     "name": "stdout",
     "output_type": "stream",
     "text": [
      "Word -> abc 456 xxx abc 123\n",
      "\u001b[?2004h"
     ]
    },
    {
     "ename": "",
     "evalue": "1",
     "output_type": "error",
     "traceback": []
    }
   ],
   "source": [
    "printf 'Word -> %s\\n' \"${aa[*]}\""
   ]
  },
  {
   "cell_type": "markdown",
   "id": "5fa173cf",
   "metadata": {},
   "source": [
    "##### forLoop"
   ]
  },
  {
   "cell_type": "code",
   "execution_count": 38,
   "id": "cb84e44d",
   "metadata": {},
   "outputs": [
    {
     "name": "stdout",
     "output_type": "stream",
     "text": [
      "abc 456 xxx abc 123\n",
      "\u001b[?2004h"
     ]
    },
    {
     "ename": "",
     "evalue": "1",
     "output_type": "error",
     "traceback": []
    }
   ],
   "source": [
    "for value in \"${aa[*]}\"; do echo $value; done"
   ]
  },
  {
   "cell_type": "code",
   "execution_count": 37,
   "id": "890a3729",
   "metadata": {},
   "outputs": [
    {
     "name": "stdout",
     "output_type": "stream",
     "text": [
      "abc2004l\n",
      "456 xxx\n",
      "abc\n",
      "123\n",
      "\u001b[?2004h"
     ]
    },
    {
     "ename": "",
     "evalue": "1",
     "output_type": "error",
     "traceback": []
    }
   ],
   "source": [
    "for value in \"${aa[@]}\"; do echo $value; done"
   ]
  },
  {
   "cell_type": "markdown",
   "id": "31281a06",
   "metadata": {},
   "source": [
    "##### key vaules"
   ]
  },
  {
   "cell_type": "code",
   "execution_count": 44,
   "id": "7a1960db",
   "metadata": {},
   "outputs": [
    {
     "name": "stdout",
     "output_type": "stream",
     "text": [
      "key is 4, value is abc\n",
      "key is 3, value is 456 xxx\n",
      "key is 2, value is abc\n",
      "key is 1, value is 123\n",
      "\u001b[?2004h"
     ]
    },
    {
     "ename": "",
     "evalue": "1",
     "output_type": "error",
     "traceback": []
    }
   ],
   "source": [
    "for key in \"${!aa[@]}\"; do echo \"key is $key, value is ${aa[$key]}\"; done"
   ]
  },
  {
   "cell_type": "markdown",
   "id": "236080f4",
   "metadata": {},
   "source": [
    "#### condition\n",
    "- conditional testing with [␣xxx␣]"
   ]
  },
  {
   "cell_type": "code",
   "execution_count": 1,
   "id": "98847585",
   "metadata": {},
   "outputs": [
    {
     "name": "stdout",
     "output_type": "stream",
     "text": [
      "GNU bash, version 3.2.57(1)-release (x86_64-apple-darwin19)\n",
      "Copyright (C) 2007 Free Software Foundation, Inc.\n",
      "/bin/bash\n"
     ]
    }
   ],
   "source": [
    "bash --version\n",
    "which bash"
   ]
  }
 ],
 "metadata": {
  "kernelspec": {
   "display_name": "Bash",
   "language": "bash",
   "name": "bash"
  },
  "language_info": {
   "codemirror_mode": "shell",
   "file_extension": ".sh",
   "mimetype": "text/x-sh",
   "name": "bash"
  }
 },
 "nbformat": 4,
 "nbformat_minor": 5
}
