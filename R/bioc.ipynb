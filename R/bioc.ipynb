{
 "cells": [
  {
   "cell_type": "code",
   "execution_count": null,
   "id": "cebb6a62",
   "metadata": {},
   "outputs": [],
   "source": [
    "# extracting sequence when annotate \n",
    "as.character(getSeq(BSgenome.Hsapiens.UCSC.hg38, GRanges(seqnames = 'chr2', ranges = IRanges(135165898,135166131), strand = '+')))"
   ]
  },
  {
   "cell_type": "code",
   "execution_count": null,
   "id": "05f970b5",
   "metadata": {},
   "outputs": [],
   "source": [
    "# overlap to find all intron region. \n",
    "# dif <-S4Vectors::setdiff(fullrange, exonrange) # faster than Map. \n",
    "# mdif <- Map(setdiff, fullrange, exonrange)  \n",
    "\n",
    "# obtain the intron sequence and find 5T features. \n",
    "# seqset <- getSeq(BSgenome.Hsapiens.UCSC.hg38, dif)\n",
    "# t5 <- PDict(DNAStringSet(x = c('TTTTT')))\n",
    "# m <- vector(mode = 'integer', length = length(seqset))\n",
    "# for (i in 1:length(seqset)){\n",
    "#   for (j in 1:length(seqset[[i]])){\n",
    "#     m[i] <- sum(countPDict(t5,seqset[[i]][[j]]))\n",
    "#   }\n",
    "# }\n"
   ]
  }
 ],
 "metadata": {
  "kernelspec": {
   "display_name": "R",
   "language": "R",
   "name": "ir"
  },
  "language_info": {
   "codemirror_mode": "r",
   "file_extension": ".r",
   "mimetype": "text/x-r-source",
   "name": "R",
   "pygments_lexer": "r",
   "version": "4.1.3"
  }
 },
 "nbformat": 4,
 "nbformat_minor": 5
}
