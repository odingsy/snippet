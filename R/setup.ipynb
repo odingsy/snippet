{
 "cells": [
  {
   "cell_type": "code",
   "execution_count": 7,
   "id": "5e216be5",
   "metadata": {},
   "outputs": [],
   "source": [
    "help(Startup)"
   ]
  },
  {
   "cell_type": "code",
   "execution_count": 1,
   "id": "5fbede0b",
   "metadata": {},
   "outputs": [
    {
     "data": {
      "text/plain": [
       "AR                      x86_64-apple-darwin13.4.0-ar\n",
       "AS                      x86_64-apple-darwin13.4.0-as\n",
       "BASH_SILENCE_DEPRECATION_WARNING\n",
       "                        1\n",
       "BUILD                   x86_64-apple-darwin13.4.0\n",
       "CC                      x86_64-apple-darwin13.4.0-clang\n",
       "CC_FOR_BUILD            /Users/shiyuanguo/opt/anaconda3/envs/r4/bin/x86_64-apple-darwin13.4.0-clang\n",
       "CFLAGS                  -march=core2 -mtune=haswell -mssse3\n",
       "                        -ftree-vectorize -fPIC -fPIE\n",
       "                        -fstack-protector-strong -O2 -pipe -isystem\n",
       "                        /Users/shiyuanguo/opt/anaconda3/envs/r4/include\n",
       "CHECKSYMS               x86_64-apple-darwin13.4.0-checksyms\n",
       "CLANG                   x86_64-apple-darwin13.4.0-clang\n",
       "CLANGXX                 x86_64-apple-darwin13.4.0-clang++\n",
       "CMAKE_ARGS              -DCMAKE_AR=/Users/shiyuanguo/opt/anaconda3/envs/r4/bin/x86_64-apple-darwin13.4.0-ar\n",
       "                        -DCMAKE_CXX_COMPILER_AR=/Users/shiyuanguo/opt/anaconda3/envs/r4/bin/x86_64-apple-darwin13.4.0-ar\n",
       "                        -DCMAKE_C_COMPILER_AR=/Users/shiyuanguo/opt/anaconda3/envs/r4/bin/x86_64-apple-darwin13.4.0-ar\n",
       "                        -DCMAKE_RANLIB=/Users/shiyuanguo/opt/anaconda3/envs/r4/bin/x86_64-apple-darwin13.4.0-ranlib\n",
       "                        -DCMAKE_CXX_COMPILER_RANLIB=/Users/shiyuanguo/opt/anaconda3/envs/r4/bin/x86_64-apple-darwin13.4.0-ranlib\n",
       "                        -DCMAKE_C_COMPILER_RANLIB=/Users/shiyuanguo/opt/anaconda3/envs/r4/bin/x86_64-apple-darwin13.4.0-ranlib\n",
       "                        -DCMAKE_LINKER=/Users/shiyuanguo/opt/anaconda3/envs/r4/bin/x86_64-apple-darwin13.4.0-ld\n",
       "                        -DCMAKE_STRIP=/Users/shiyuanguo/opt/anaconda3/envs/r4/bin/x86_64-apple-darwin13.4.0-strip\n",
       "                        -DCMAKE_INSTALL_NAME_TOOL=/Users/shiyuanguo/opt/anaconda3/envs/r4/bin/x86_64-apple-darwin13.4.0-install_name_tool\n",
       "                        -DCMAKE_LIBTOOL=/Users/shiyuanguo/opt/anaconda3/envs/r4/bin/x86_64-apple-darwin13.4.0-libtool\n",
       "                        -DCMAKE_OSX_DEPLOYMENT_TARGET=\n",
       "                        -DCMAKE_BUILD_TYPE=Release\n",
       "                        -DCMAKE_OSX_SYSROOT=/Library/Developer/CommandLineTools/SDKs/MacOSX.sdk\n",
       "CMAKE_PREFIX_PATH       :/Users/shiyuanguo/opt/anaconda3/envs/r4\n",
       "COLORFGBG               15;0\n",
       "COLORTERM               truecolor\n",
       "COMMAND_MODE            unix2003\n",
       "CONDA_DEFAULT_ENV       r4\n",
       "CONDA_EXE               /Users/shiyuanguo/opt/anaconda3/bin/conda\n",
       "CONDA_PREFIX            /Users/shiyuanguo/opt/anaconda3/envs/r4\n",
       "CONDA_PREFIX_1          /Users/shiyuanguo/opt/anaconda3\n",
       "CONDA_PROMPT_MODIFIER   (r4)\n",
       "CONDA_PYTHON_EXE        /Users/shiyuanguo/opt/anaconda3/bin/python\n",
       "CONDA_SHLVL             2\n",
       "CONDA_TOOLCHAIN_BUILD   x86_64-apple-darwin13.4.0\n",
       "CONDA_TOOLCHAIN_HOST    x86_64-apple-darwin13.4.0\n",
       "CPPFLAGS                -D_FORTIFY_SOURCE=2 -isystem\n",
       "                        /Users/shiyuanguo/opt/anaconda3/envs/r4/include\n",
       "CXX                     x86_64-apple-darwin13.4.0-clang++\n",
       "CXXFLAGS                -march=core2 -mtune=haswell -mssse3\n",
       "                        -ftree-vectorize -fPIC -fPIE\n",
       "                        -fstack-protector-strong -O2 -pipe\n",
       "                        -stdlib=libc++ -fvisibility-inlines-hidden\n",
       "                        -std=c++14 -fmessage-length=0 -isystem\n",
       "                        /Users/shiyuanguo/opt/anaconda3/envs/r4/include\n",
       "CXX_FOR_BUILD           /Users/shiyuanguo/opt/anaconda3/envs/r4/bin/x86_64-apple-darwin13.4.0-clang++\n",
       "DEBUG_CFLAGS            -march=core2 -mtune=haswell -mssse3\n",
       "                        -ftree-vectorize -fPIC -fPIE\n",
       "                        -fstack-protector-strong -O2 -pipe -Og -g -Wall\n",
       "                        -Wextra -isystem\n",
       "                        /Users/shiyuanguo/opt/anaconda3/envs/r4/include\n",
       "DEBUG_CXXFLAGS          -march=core2 -mtune=haswell -mssse3\n",
       "                        -ftree-vectorize -fPIC -fPIE\n",
       "                        -fstack-protector-strong -O2 -pipe\n",
       "                        -stdlib=libc++ -fvisibility-inlines-hidden\n",
       "                        -std=c++14 -fmessage-length=0 -Og -g -Wall\n",
       "                        -Wextra -isystem\n",
       "                        /Users/shiyuanguo/opt/anaconda3/envs/r4/include\n",
       "DEBUG_FFLAGS            -march=core2 -mtune=haswell -ftree-vectorize\n",
       "                        -fPIC -fstack-protector -O2 -pipe -isystem\n",
       "                        /Users/shiyuanguo/opt/anaconda3/envs/r4/include\n",
       "                        -march=core2 -mtune=haswell -ftree-vectorize\n",
       "                        -fPIC -fstack-protector -O2 -pipe -Og -g -Wall\n",
       "                        -Wextra -fcheck=all -fbacktrace -fimplicit-none\n",
       "                        -fvar-tracking-assignments\n",
       "DEBUG_FORTRANFLAGS      -march=core2 -mtune=haswell -ftree-vectorize\n",
       "                        -fPIC -fstack-protector -O2 -pipe -isystem\n",
       "                        /Users/shiyuanguo/opt/anaconda3/envs/r4/include\n",
       "                        -march=core2 -mtune=haswell -ftree-vectorize\n",
       "                        -fPIC -fstack-protector -O2 -pipe -Og -g -Wall\n",
       "                        -Wextra -fcheck=all -fbacktrace -fimplicit-none\n",
       "                        -fvar-tracking-assignments\n",
       "DISPLAY                 /private/tmp/com.apple.launchd.GexKp33b4W/org.xquartz:0\n",
       "DYLD_FALLBACK_LIBRARY_PATH\n",
       "                        /Users/shiyuanguo/opt/anaconda3/envs/r4/lib/R/lib:/Users/shiyuanguo/opt/anaconda3/envs/r4/lib:/Users/runner/miniforge3/conda-bld/r-base-split_1648745763683/_build_env/lib/server\n",
       "EDITOR                  vi\n",
       "F77                     /Users/shiyuanguo/opt/anaconda3/envs/r4/bin/x86_64-apple-darwin13.4.0-gfortran\n",
       "F90                     /Users/shiyuanguo/opt/anaconda3/envs/r4/bin/x86_64-apple-darwin13.4.0-gfortran\n",
       "F95                     /Users/shiyuanguo/opt/anaconda3/envs/r4/bin/x86_64-apple-darwin13.4.0-gfortran\n",
       "FC                      /Users/shiyuanguo/opt/anaconda3/envs/r4/bin/x86_64-apple-darwin13.4.0-gfortran\n",
       "FC_FOR_BUILD            /Users/shiyuanguo/opt/anaconda3/envs/r4/bin/x86_64-apple-darwin13.4.0-gfortran\n",
       "FFLAGS                  -march=core2 -mtune=haswell -ftree-vectorize\n",
       "                        -fPIC -fstack-protector -O2 -pipe -isystem\n",
       "                        /Users/shiyuanguo/opt/anaconda3/envs/r4/include\n",
       "FORTRANFLAGS            -march=core2 -mtune=haswell -ftree-vectorize\n",
       "                        -fPIC -fstack-protector -O2 -pipe -isystem\n",
       "                        /Users/shiyuanguo/opt/anaconda3/envs/r4/include\n",
       "GFORTRAN                /Users/shiyuanguo/opt/anaconda3/envs/r4/bin/x86_64-apple-darwin13.4.0-gfortran\n",
       "GSETTINGS_SCHEMA_DIR    /Users/shiyuanguo/opt/anaconda3/envs/r4/share/glib-2.0/schemas\n",
       "GSETTINGS_SCHEMA_DIR_CONDA_BACKUP\n",
       "                        \n",
       "HOME                    /Users/shiyuanguo\n",
       "HOST                    x86_64-apple-darwin13.4.0\n",
       "INDR                    x86_64-apple-darwin13.4.0-indr\n",
       "INSTALL_NAME_TOOL       x86_64-apple-darwin13.4.0-install_name_tool\n",
       "ITERM_PROFILE           Default\n",
       "ITERM_SESSION_ID        w0t0p0:5F4CFBC1-4F0B-4FF1-909A-BDB2EF9CAAEF\n",
       "JPY_PARENT_PID          56927\n",
       "LANG                    en_US.UTF-8\n",
       "LC_ALL                  C\n",
       "LC_TERMINAL             iTerm2\n",
       "LC_TERMINAL_VERSION     3.4.6\n",
       "LD                      x86_64-apple-darwin13.4.0-ld\n",
       "LDFLAGS                 -Wl,-pie -Wl,-headerpad_max_install_names\n",
       "                        -Wl,-dead_strip_dylibs\n",
       "                        -Wl,-rpath,/Users/shiyuanguo/opt/anaconda3/envs/r4/lib\n",
       "                        -L/Users/shiyuanguo/opt/anaconda3/envs/r4/lib\n",
       "LDFLAGS_LD              -pie -headerpad_max_install_names\n",
       "                        -dead_strip_dylibs -rpath\n",
       "                        /Users/shiyuanguo/opt/anaconda3/envs/r4/lib\n",
       "                        -L/Users/shiyuanguo/opt/anaconda3/envs/r4/lib\n",
       "LIBTOOL                 x86_64-apple-darwin13.4.0-libtool\n",
       "LIPO                    x86_64-apple-darwin13.4.0-lipo\n",
       "LN_S                    ln -s\n",
       "LOGNAME                 shiyuanguo\n",
       "LaunchInstanceID        ED18282C-8E25-4724-A2C7-84013BB5F374\n",
       "MAKE                    make\n",
       "MESON_ARGS              --buildtype release\n",
       "NM                      x86_64-apple-darwin13.4.0-nm\n",
       "NMEDIT                  x86_64-apple-darwin13.4.0-nmedit\n",
       "OBJC                    x86_64-apple-darwin13.4.0-clang\n",
       "OBJC_FOR_BUILD          /Users/shiyuanguo/opt/anaconda3/envs/r4/bin/x86_64-apple-darwin13.4.0-clang\n",
       "OTOOL                   x86_64-apple-darwin13.4.0-otool\n",
       "PAGER                   /usr/bin/less\n",
       "PAGESTUFF               x86_64-apple-darwin13.4.0-pagestuff\n",
       "PATH                    /Users/shiyuanguo/opt/anaconda3/envs/r4/bin:/Users/shiyuanguo/opt/anaconda3/condabin://Users/shiyuanguo/perl5/bin:/Users/shiyuanguo/bin:/usr/local/bin:/usr/bin:/bin:/usr/sbin:/sbin:/Library/TeX/texbin:/opt/X11/bin:/Library/Apple/usr/bin:Users/shiyuanguo/perl5/bin:/Users/shiyuanguo/bin\n",
       "PERL5LIB                /Users/shiyuanguo/perl5/lib/perl5:/Users/shiyuanguo/perl5/lib/perl5\n",
       "PERL_LOCAL_LIB_ROOT     /Users/shiyuanguo/perl5:/Users/shiyuanguo/perl5\n",
       "PERL_MB_OPT             --install_base \"/Users/shiyuanguo/perl5\"\n",
       "PERL_MM_OPT             INSTALL_BASE=/Users/shiyuanguo/perl5\n",
       "PWD                     /Users/shiyuanguo/Desktop/snippet/R\n",
       "RANLIB                  x86_64-apple-darwin13.4.0-ranlib\n",
       "REDO_PREBINDING         x86_64-apple-darwin13.4.0-redo_prebinding\n",
       "RSTUDIO_WHICH_R         /Users/shiyuanguo/opt/anaconda3/envs/r4/bin/R\n",
       "R_ARCH                  \n",
       "R_BROWSER               /usr/bin/open\n",
       "R_BZIPCMD               /Users/shiyuanguo/opt/anaconda3/envs/r4/bin/bzip2\n",
       "R_DOC_DIR               /Users/shiyuanguo/opt/anaconda3/envs/r4/lib/R/doc\n",
       "R_GZIPCMD               /usr/bin/gzip\n",
       "R_HOME                  /Users/shiyuanguo/opt/anaconda3/envs/r4/lib/R\n",
       "R_INCLUDE_DIR           /Users/shiyuanguo/opt/anaconda3/envs/r4/lib/R/include\n",
       "R_LIBS_SITE             \n",
       "R_LIBS_USER             ~/Library/R/4.1/library\n",
       "R_MAX_VSIZE             100Gb\n",
       "R_PAPERSIZE             a4\n",
       "R_PDFVIEWER             /usr/bin/open\n",
       "R_PLATFORM              x86_64-apple-darwin13.4.0\n",
       "R_PRINTCMD              lpr\n",
       "R_RD4PDF                times,inconsolata,hyper\n",
       "R_SESSION_TMPDIR        /var/folders/1q/hsqyhjf97fsfrzyt69c_p31m0000gn/T//RtmpnM6GX5\n",
       "R_SHARE_DIR             /Users/shiyuanguo/opt/anaconda3/envs/r4/lib/R/share\n",
       "R_STRIP_SHARED_LIB      x86_64-apple-darwin13.4.0-strip -x\n",
       "R_STRIP_STATIC_LIB      x86_64-apple-darwin13.4.0-strip -S\n",
       "R_SYSTEM_ABI            macos,gcc,gxx,gfortran,gfortran\n",
       "R_TEXI2DVICMD           /Users/runner/miniforge3/conda-bld/r-base-split_1648745763683/_build_env/bin/texi2dvi\n",
       "R_UNZIPCMD              /usr/bin/unzip\n",
       "R_ZIPCMD                /usr/bin/zip\n",
       "SDKROOT                 /Library/Developer/CommandLineTools/SDKs/MacOSX.sdk\n",
       "SECURITYSESSIONID       186a6\n",
       "SED                     /usr/bin/sed\n",
       "SEGEDIT                 x86_64-apple-darwin13.4.0-segedit\n",
       "SEG_ADDR_TABLE          x86_64-apple-darwin13.4.0-seg_addr_table\n",
       "SEG_HACK                x86_64-apple-darwin13.4.0-seg_hack\n",
       "SHELL                   /bin/bash\n",
       "SHLVL                   2\n",
       "SIZE                    x86_64-apple-darwin13.4.0-size\n",
       "SSH_AUTH_SOCK           /private/tmp/com.apple.launchd.wMDVwEblOz/Listeners\n",
       "STRINGS                 x86_64-apple-darwin13.4.0-strings\n",
       "STRIP                   x86_64-apple-darwin13.4.0-strip\n",
       "TAR                     /usr/bin/tar\n",
       "TERM                    screen\n",
       "TERM_PROGRAM            tmux\n",
       "TERM_PROGRAM_VERSION    3.2a\n",
       "TERM_SESSION_ID         w0t0p0:5F4CFBC1-4F0B-4FF1-909A-BDB2EF9CAAEF\n",
       "TMPDIR                  /var/folders/1q/hsqyhjf97fsfrzyt69c_p31m0000gn/T/\n",
       "TMUX                    /private/tmp/tmux-501/default,31137,8\n",
       "TMUX_PANE               %15\n",
       "USER                    shiyuanguo\n",
       "XPC_FLAGS               0x0\n",
       "XPC_SERVICE_NAME        0\n",
       "_CE_CONDA               \n",
       "_CE_M                   \n",
       "_CONDA_PYTHON_SYSCONFIGDATA_NAME\n",
       "                        _sysconfigdata_x86_64_apple_darwin13_4_0\n",
       "__CF_USER_TEXT_ENCODING\n",
       "                        0x1F5:0x0:0x0\n",
       "ac_cv_func_malloc_0_nonnull\n",
       "                        yes\n",
       "ac_cv_func_realloc_0_nonnull\n",
       "                        yes\n",
       "build_alias             x86_64-apple-darwin13.4.0\n",
       "host_alias              x86_64-apple-darwin13.4.0"
      ]
     },
     "metadata": {},
     "output_type": "display_data"
    }
   ],
   "source": [
    "Sys.getenv()"
   ]
  },
  {
   "cell_type": "code",
   "execution_count": 2,
   "id": "1f729771",
   "metadata": {},
   "outputs": [
    {
     "data": {
      "text/plain": [
       "NA                      NA"
      ]
     },
     "metadata": {},
     "output_type": "display_data"
    },
    {
     "data": {
      "text/plain": [
       "NA                      NA"
      ]
     },
     "metadata": {},
     "output_type": "display_data"
    }
   ],
   "source": [
    "Sys.getenv()['R_LIBS']\n",
    "Sys.getenv()['R_ENVIRON']"
   ]
  },
  {
   "cell_type": "code",
   "execution_count": 4,
   "id": "497490cb",
   "metadata": {},
   "outputs": [
    {
     "data": {
      "text/html": [
       "'/Users/shiyuanguo/opt/anaconda3/envs/r4/lib/R'"
      ],
      "text/latex": [
       "'/Users/shiyuanguo/opt/anaconda3/envs/r4/lib/R'"
      ],
      "text/markdown": [
       "'/Users/shiyuanguo/opt/anaconda3/envs/r4/lib/R'"
      ],
      "text/plain": [
       "[1] \"/Users/shiyuanguo/opt/anaconda3/envs/r4/lib/R\""
      ]
     },
     "metadata": {},
     "output_type": "display_data"
    }
   ],
   "source": [
    "R.home(component = \"home\")"
   ]
  },
  {
   "cell_type": "code",
   "execution_count": 5,
   "id": "cef54872",
   "metadata": {},
   "outputs": [
    {
     "data": {
      "text/html": [
       "'/Users/shiyuanguo/opt/anaconda3/envs/r4/lib/R/etc'"
      ],
      "text/latex": [
       "'/Users/shiyuanguo/opt/anaconda3/envs/r4/lib/R/etc'"
      ],
      "text/markdown": [
       "'/Users/shiyuanguo/opt/anaconda3/envs/r4/lib/R/etc'"
      ],
      "text/plain": [
       "[1] \"/Users/shiyuanguo/opt/anaconda3/envs/r4/lib/R/etc\""
      ]
     },
     "metadata": {},
     "output_type": "display_data"
    }
   ],
   "source": [
    "file.path(R.home(component = \"home\"), 'etc') # the place where Renviron.site should be located. "
   ]
  },
  {
   "cell_type": "code",
   "execution_count": null,
   "id": "2a8fa7be",
   "metadata": {},
   "outputs": [],
   "source": [
    "# \n",
    "# showMethods(\"xxx\")\n",
    "# selectMethod(\"xxx\", \"package\") "
   ]
  }
 ],
 "metadata": {
  "kernelspec": {
   "display_name": "R",
   "language": "R",
   "name": "ir"
  },
  "language_info": {
   "codemirror_mode": "r",
   "file_extension": ".r",
   "mimetype": "text/x-r-source",
   "name": "R",
   "pygments_lexer": "r",
   "version": "4.1.3"
  }
 },
 "nbformat": 4,
 "nbformat_minor": 5
}
